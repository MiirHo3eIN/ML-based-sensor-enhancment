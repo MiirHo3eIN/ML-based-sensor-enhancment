{
 "cells": [
  {
   "cell_type": "code",
   "execution_count": 7,
   "id": "912134f4",
   "metadata": {},
   "outputs": [],
   "source": [
    "import utils_adder\n",
    "\n",
    "import numpy as np \n",
    "import pandas as pd \n",
    "import glob\n",
    "\n",
    "\n",
    "import data_convertor"
   ]
  },
  {
   "cell_type": "code",
   "execution_count": 37,
   "id": "935f3a32",
   "metadata": {},
   "outputs": [],
   "source": [
    "path = '../data/berkely/callibration_data/'\n",
    "\n",
    "l_df = {p.split('/')[-1].split('.')[0]:pd.read_csv(p, sep=\" \", header=None) for p in glob.glob(path + \"*.TXT\")}"
   ]
  },
  {
   "cell_type": "code",
   "execution_count": 44,
   "id": "ac9f3fdc",
   "metadata": {},
   "outputs": [
    {
     "data": {
      "text/html": [
       "<div>\n",
       "<style scoped>\n",
       "    .dataframe tbody tr th:only-of-type {\n",
       "        vertical-align: middle;\n",
       "    }\n",
       "\n",
       "    .dataframe tbody tr th {\n",
       "        vertical-align: top;\n",
       "    }\n",
       "\n",
       "    .dataframe thead th {\n",
       "        text-align: right;\n",
       "    }\n",
       "</style>\n",
       "<table border=\"1\" class=\"dataframe\">\n",
       "  <thead>\n",
       "    <tr style=\"text-align: right;\">\n",
       "      <th></th>\n",
       "      <th></th>\n",
       "      <th>0</th>\n",
       "    </tr>\n",
       "  </thead>\n",
       "  <tbody>\n",
       "    <tr>\n",
       "      <th rowspan=\"5\" valign=\"top\">LOG0001</th>\n",
       "      <th>0</th>\n",
       "      <td>{x:021e,y:03ab}</td>\n",
       "    </tr>\n",
       "    <tr>\n",
       "      <th>1</th>\n",
       "      <td>{x:020f,y:03a8}</td>\n",
       "    </tr>\n",
       "    <tr>\n",
       "      <th>2</th>\n",
       "      <td>{x:0211,y:03af}</td>\n",
       "    </tr>\n",
       "    <tr>\n",
       "      <th>3</th>\n",
       "      <td>{x:021a,y:03ad}</td>\n",
       "    </tr>\n",
       "    <tr>\n",
       "      <th>4</th>\n",
       "      <td>{x:0219,y:03af}</td>\n",
       "    </tr>\n",
       "    <tr>\n",
       "      <th>...</th>\n",
       "      <th>...</th>\n",
       "      <td>...</td>\n",
       "    </tr>\n",
       "    <tr>\n",
       "      <th rowspan=\"5\" valign=\"top\">LOG0000</th>\n",
       "      <th>31495</th>\n",
       "      <td>{x:0228,y:03ad}</td>\n",
       "    </tr>\n",
       "    <tr>\n",
       "      <th>31496</th>\n",
       "      <td>{x:022d,y:03ad}</td>\n",
       "    </tr>\n",
       "    <tr>\n",
       "      <th>31497</th>\n",
       "      <td>{x:0225,y:03a6}</td>\n",
       "    </tr>\n",
       "    <tr>\n",
       "      <th>31498</th>\n",
       "      <td>{x:021e,y:0396}</td>\n",
       "    </tr>\n",
       "    <tr>\n",
       "      <th>31499</th>\n",
       "      <td>{x:021d,y:038d}</td>\n",
       "    </tr>\n",
       "  </tbody>\n",
       "</table>\n",
       "<p>63000 rows × 1 columns</p>\n",
       "</div>"
      ],
      "text/plain": [
       "                             0\n",
       "LOG0001 0      {x:021e,y:03ab}\n",
       "        1      {x:020f,y:03a8}\n",
       "        2      {x:0211,y:03af}\n",
       "        3      {x:021a,y:03ad}\n",
       "        4      {x:0219,y:03af}\n",
       "...                        ...\n",
       "LOG0000 31495  {x:0228,y:03ad}\n",
       "        31496  {x:022d,y:03ad}\n",
       "        31497  {x:0225,y:03a6}\n",
       "        31498  {x:021e,y:0396}\n",
       "        31499  {x:021d,y:038d}\n",
       "\n",
       "[63000 rows x 1 columns]"
      ]
     },
     "execution_count": 44,
     "metadata": {},
     "output_type": "execute_result"
    }
   ],
   "source": [
    "pd.concat(l_df)\n",
    "    "
   ]
  },
  {
   "cell_type": "code",
   "execution_count": null,
   "id": "c5e95fab",
   "metadata": {},
   "outputs": [],
   "source": []
  }
 ],
 "metadata": {
  "kernelspec": {
   "display_name": "Python 3 (ipykernel)",
   "language": "python",
   "name": "python3"
  },
  "language_info": {
   "codemirror_mode": {
    "name": "ipython",
    "version": 3
   },
   "file_extension": ".py",
   "mimetype": "text/x-python",
   "name": "python",
   "nbconvert_exporter": "python",
   "pygments_lexer": "ipython3",
   "version": "3.8.10"
  }
 },
 "nbformat": 4,
 "nbformat_minor": 5
}
