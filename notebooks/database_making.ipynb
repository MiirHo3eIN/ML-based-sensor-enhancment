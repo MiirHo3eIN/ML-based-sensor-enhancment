{
 "cells": [
  {
   "cell_type": "code",
   "execution_count": 5,
   "id": "912134f4",
   "metadata": {},
   "outputs": [],
   "source": [
    "import utils_adder\n",
    "\n",
    "import numpy as np \n",
    "import pandas as pd \n",
    "import glob\n",
    "\n",
    "\n",
    "import data_convertor, processing "
   ]
  },
  {
   "cell_type": "code",
   "execution_count": 6,
   "id": "2b13b61b",
   "metadata": {},
   "outputs": [
    {
     "name": "stdout",
     "output_type": "stream",
     "text": [
      "                      names  label  \\\n",
      "0        normal_cond_220622      0   \n",
      "1  normal_cond_10_35_230622      0   \n",
      "2  normal_cond_11_41_230622      0   \n",
      "3  normal_cond_12_41_230622      0   \n",
      "4  normal_cond_13_44_230622      0   \n",
      "\n",
      "                                              path  \n",
      "0         ../data/piezo/00_outdoor_normal_cond.dat  \n",
      "1   ../data/piezo/01_outdoor_normal_cond_10_35.dat  \n",
      "2   ../data/piezo/02_outdoor_normal_cond_11_41.dat  \n",
      "3   ../data/piezo/03_outdoor_normal_cond_12_41.dat  \n",
      "4  ../data/piezo/04_outdoor_normal_cond_13_44.dat   \n"
     ]
    },
    {
     "data": {
      "text/html": [
       "<div>\n",
       "<style scoped>\n",
       "    .dataframe tbody tr th:only-of-type {\n",
       "        vertical-align: middle;\n",
       "    }\n",
       "\n",
       "    .dataframe tbody tr th {\n",
       "        vertical-align: top;\n",
       "    }\n",
       "\n",
       "    .dataframe thead th {\n",
       "        text-align: right;\n",
       "    }\n",
       "</style>\n",
       "<table border=\"1\" class=\"dataframe\">\n",
       "  <thead>\n",
       "    <tr style=\"text-align: right;\">\n",
       "      <th></th>\n",
       "      <th>names</th>\n",
       "      <th>label</th>\n",
       "      <th>path</th>\n",
       "      <th>logs_num</th>\n",
       "    </tr>\n",
       "  </thead>\n",
       "  <tbody>\n",
       "    <tr>\n",
       "      <th>0</th>\n",
       "      <td>normal_cond_220622</td>\n",
       "      <td>0</td>\n",
       "      <td>../data/berkely/00_outdoor_normal_cond_220622/</td>\n",
       "      <td>14</td>\n",
       "    </tr>\n",
       "    <tr>\n",
       "      <th>1</th>\n",
       "      <td>normal_cond_10_35_11_30_230622</td>\n",
       "      <td>0</td>\n",
       "      <td>../data/berkely/01_outdoor_normal_cond_10_35_1...</td>\n",
       "      <td>11</td>\n",
       "    </tr>\n",
       "    <tr>\n",
       "      <th>2</th>\n",
       "      <td>normal_cond_12_41_16_20_230622</td>\n",
       "      <td>0</td>\n",
       "      <td>../data/berkely/02_outdoor_normal_cond_11_41_1...</td>\n",
       "      <td>56</td>\n",
       "    </tr>\n",
       "    <tr>\n",
       "      <th>3</th>\n",
       "      <td>normal_cond_16_55_18_00_230622</td>\n",
       "      <td>0</td>\n",
       "      <td>../data/berkely/03_outdoor_normal_cond_16_55_1...</td>\n",
       "      <td>12</td>\n",
       "    </tr>\n",
       "    <tr>\n",
       "      <th>4</th>\n",
       "      <td>normal_cond_10_38_11_40_240622</td>\n",
       "      <td>0</td>\n",
       "      <td>../data/berkely/04_outdoor_normal_cond_10_38_1...</td>\n",
       "      <td>11</td>\n",
       "    </tr>\n",
       "  </tbody>\n",
       "</table>\n",
       "</div>"
      ],
      "text/plain": [
       "                            names  label  \\\n",
       "0              normal_cond_220622      0   \n",
       "1  normal_cond_10_35_11_30_230622      0   \n",
       "2  normal_cond_12_41_16_20_230622      0   \n",
       "3  normal_cond_16_55_18_00_230622      0   \n",
       "4  normal_cond_10_38_11_40_240622      0   \n",
       "\n",
       "                                                path  logs_num  \n",
       "0     ../data/berkely/00_outdoor_normal_cond_220622/        14  \n",
       "1  ../data/berkely/01_outdoor_normal_cond_10_35_1...        11  \n",
       "2  ../data/berkely/02_outdoor_normal_cond_11_41_1...        56  \n",
       "3  ../data/berkely/03_outdoor_normal_cond_16_55_1...        12  \n",
       "4  ../data/berkely/04_outdoor_normal_cond_10_38_1...        11  "
      ]
     },
     "execution_count": 6,
     "metadata": {},
     "output_type": "execute_result"
    }
   ],
   "source": [
    "berkly_tab = pd.read_csv('../data/data_berkley.csv')\n",
    "piezo_tab = pd.read_csv('../data/data_piezo.csv')\n",
    "\n",
    "print(piezo_tab.head())\n",
    "berkly_tab.head()"
   ]
  },
  {
   "cell_type": "code",
   "execution_count": 7,
   "id": "935f3a32",
   "metadata": {},
   "outputs": [],
   "source": [
    "# Piezo dataset \n",
    "\n",
    "piezo_path =  piezo_tab.path[0]\n",
    "\n",
    "\n",
    "piezo_data = data_convertor.read_dat(path= piezo_path)"
   ]
  },
  {
   "cell_type": "code",
   "execution_count": 8,
   "id": "1cbf6edb",
   "metadata": {},
   "outputs": [
    {
     "data": {
      "text/html": [
       "<div>\n",
       "<style scoped>\n",
       "    .dataframe tbody tr th:only-of-type {\n",
       "        vertical-align: middle;\n",
       "    }\n",
       "\n",
       "    .dataframe tbody tr th {\n",
       "        vertical-align: top;\n",
       "    }\n",
       "\n",
       "    .dataframe thead th {\n",
       "        text-align: right;\n",
       "    }\n",
       "</style>\n",
       "<table border=\"1\" class=\"dataframe\">\n",
       "  <thead>\n",
       "    <tr style=\"text-align: right;\">\n",
       "      <th></th>\n",
       "      <th>Ts</th>\n",
       "      <th>N.A</th>\n",
       "      <th>Velocity</th>\n",
       "      <th>CH0</th>\n",
       "      <th>CH1</th>\n",
       "    </tr>\n",
       "  </thead>\n",
       "  <tbody>\n",
       "    <tr>\n",
       "      <th>0</th>\n",
       "      <td>0.01</td>\n",
       "      <td>0.0</td>\n",
       "      <td>0.0</td>\n",
       "      <td>-0.001157</td>\n",
       "      <td>0.002822</td>\n",
       "    </tr>\n",
       "    <tr>\n",
       "      <th>1</th>\n",
       "      <td>0.02</td>\n",
       "      <td>0.0</td>\n",
       "      <td>0.0</td>\n",
       "      <td>-0.000158</td>\n",
       "      <td>0.002104</td>\n",
       "    </tr>\n",
       "    <tr>\n",
       "      <th>2</th>\n",
       "      <td>0.03</td>\n",
       "      <td>0.0</td>\n",
       "      <td>0.0</td>\n",
       "      <td>0.000431</td>\n",
       "      <td>0.001235</td>\n",
       "    </tr>\n",
       "    <tr>\n",
       "      <th>3</th>\n",
       "      <td>0.04</td>\n",
       "      <td>0.0</td>\n",
       "      <td>0.0</td>\n",
       "      <td>0.000409</td>\n",
       "      <td>0.000337</td>\n",
       "    </tr>\n",
       "    <tr>\n",
       "      <th>4</th>\n",
       "      <td>0.05</td>\n",
       "      <td>0.0</td>\n",
       "      <td>0.0</td>\n",
       "      <td>0.001051</td>\n",
       "      <td>-0.000249</td>\n",
       "    </tr>\n",
       "    <tr>\n",
       "      <th>...</th>\n",
       "      <td>...</td>\n",
       "      <td>...</td>\n",
       "      <td>...</td>\n",
       "      <td>...</td>\n",
       "      <td>...</td>\n",
       "    </tr>\n",
       "    <tr>\n",
       "      <th>461339</th>\n",
       "      <td>4602.32</td>\n",
       "      <td>0.0</td>\n",
       "      <td>0.0</td>\n",
       "      <td>0.000165</td>\n",
       "      <td>0.000175</td>\n",
       "    </tr>\n",
       "    <tr>\n",
       "      <th>461340</th>\n",
       "      <td>4602.33</td>\n",
       "      <td>0.0</td>\n",
       "      <td>0.0</td>\n",
       "      <td>0.000054</td>\n",
       "      <td>0.000005</td>\n",
       "    </tr>\n",
       "    <tr>\n",
       "      <th>461341</th>\n",
       "      <td>4602.34</td>\n",
       "      <td>0.0</td>\n",
       "      <td>0.0</td>\n",
       "      <td>0.000178</td>\n",
       "      <td>0.000133</td>\n",
       "    </tr>\n",
       "    <tr>\n",
       "      <th>461342</th>\n",
       "      <td>4602.35</td>\n",
       "      <td>0.0</td>\n",
       "      <td>0.0</td>\n",
       "      <td>0.000040</td>\n",
       "      <td>-0.000003</td>\n",
       "    </tr>\n",
       "    <tr>\n",
       "      <th>461343</th>\n",
       "      <td>4602.36</td>\n",
       "      <td>0.0</td>\n",
       "      <td>0.0</td>\n",
       "      <td>0.000304</td>\n",
       "      <td>0.000202</td>\n",
       "    </tr>\n",
       "  </tbody>\n",
       "</table>\n",
       "<p>461344 rows × 5 columns</p>\n",
       "</div>"
      ],
      "text/plain": [
       "             Ts  N.A  Velocity       CH0       CH1\n",
       "0          0.01  0.0       0.0 -0.001157  0.002822\n",
       "1          0.02  0.0       0.0 -0.000158  0.002104\n",
       "2          0.03  0.0       0.0  0.000431  0.001235\n",
       "3          0.04  0.0       0.0  0.000409  0.000337\n",
       "4          0.05  0.0       0.0  0.001051 -0.000249\n",
       "...         ...  ...       ...       ...       ...\n",
       "461339  4602.32  0.0       0.0  0.000165  0.000175\n",
       "461340  4602.33  0.0       0.0  0.000054  0.000005\n",
       "461341  4602.34  0.0       0.0  0.000178  0.000133\n",
       "461342  4602.35  0.0       0.0  0.000040 -0.000003\n",
       "461343  4602.36  0.0       0.0  0.000304  0.000202\n",
       "\n",
       "[461344 rows x 5 columns]"
      ]
     },
     "execution_count": 8,
     "metadata": {},
     "output_type": "execute_result"
    }
   ],
   "source": [
    "piezo_data"
   ]
  },
  {
   "cell_type": "code",
   "execution_count": 10,
   "id": "7f8f444a",
   "metadata": {},
   "outputs": [
    {
     "data": {
      "text/plain": [
       "15"
      ]
     },
     "execution_count": 10,
     "metadata": {},
     "output_type": "execute_result"
    }
   ],
   "source": [
    "len(berkly_tab.path)"
   ]
  },
  {
   "cell_type": "markdown",
   "id": "fc98d78d",
   "metadata": {},
   "source": [
    "# This Conversion is done\n",
    "\n",
    "## txt to csv Conversion \n",
    "for i in range(0, len(berkly_tab.path)):\n",
    "    print(f'Converting {berkly_tab.names[i]}\\n')\n",
    "    src_path = berkly_tab.path[i]\n",
    "    logs = berkly_tab.logs_num[i]\n",
    "    tag = berkly_tab.label[i]\n",
    "    for j in range(0,logs+1):\n",
    "        logger = j\n",
    "        l_df = data_convertor.read_txt(path=src_path, label= tag, log_num = logger)\n",
    "        data_convertor.from_df_to_csv(l_df, src_path, logger)"
   ]
  },
  {
   "cell_type": "code",
   "execution_count": 42,
   "id": "c0fd40bd",
   "metadata": {},
   "outputs": [],
   "source": [
    "# Concatanating csv logs and validate them \n",
    "\n",
    "path = path.path[1]\n",
    "ldf = [pd.read_csv(p) for p in glob.glob(path + \"*.csv\")]\n",
    "df_berk  = pd.concat(ldf1).sort_values(by=['logger', 'ts'])\n",
    "processing.g_conversion(df_berk)\n",
    "processing.mean_center(df_berk, loc = ['x', 'y'])\n",
    "\n",
    "df_berk"
   ]
  },
  {
   "cell_type": "code",
   "execution_count": 7,
   "id": "97e7087a",
   "metadata": {},
   "outputs": [
    {
     "data": {
      "image/png": "[encoded data removed]",
      "text/plain": [
       "<Figure size 432x288 with 1 Axes>"
      ]
     },
     "metadata": {
      "needs_background": "light"
     },
     "output_type": "display_data"
    }
   ],
   "source": [
    "#%matplotlib notebook\n",
    "import matplotlib.pyplot as plt \n",
    "conv = 2/(2**15) \n",
    "plt.figure()\n",
    "plt.plot(df_berk.x.values, color = 'blue')\n",
    "plt.plot(piezo_data.CH1, color = 'orange')\n",
    "plt.show()"
   ]
  },
  {
   "cell_type": "code",
   "execution_count": 10,
   "id": "48d6d213",
   "metadata": {},
   "outputs": [],
   "source": [
    " \n",
    "fft_berk = processing.fft_(df_berk.y.values , 104)  \n",
    "fft_piezo = processing.fft_(piezo_data.CH0.values, 100)"
   ]
  },
  {
   "cell_type": "code",
   "execution_count": 13,
   "id": "0d21f3ef",
   "metadata": {},
   "outputs": [
    {
     "data": {
      "image/png": "[encoded data removed]",
      "text/plain": [
       "<Figure size 1152x576 with 2 Axes>"
      ]
     },
     "metadata": {
      "needs_background": "light"
     },
     "output_type": "display_data"
    }
   ],
   "source": [
    "import matplotlib.pyplot as plt \n",
    "f = plt.figure(figsize=(16,8))\n",
    "\n",
    "plt.subplot2grid( (1,2) , (0,0), fig = f)\n",
    "\n",
    "plt.plot(fft_berk['frequency'], fft_berk['fft_'])\n",
    "plt.title(\"Digital MEMS\")\n",
    "\n",
    "\n",
    "plt.subplot2grid( (1,2) , (0,1) , fig = f)\n",
    "plt.plot(fft_piezo['frequency'], fft_piezo['fft_'])\n",
    "plt.title(\"Piezo\")\n",
    "plt.show()"
   ]
  },
  {
   "cell_type": "markdown",
   "id": "4ac0b876",
   "metadata": {},
   "source": [
    "#### for 00_indoor_noraml_cond: <br />\n",
    "    - CH0 == y-axis f_peak = 10.23 \n",
    "    - CH1 == x-axis f_peak = 2.85, 8.xx\n",
    " "
   ]
  },
  {
   "cell_type": "code",
   "execution_count": null,
   "id": "5a0c2212",
   "metadata": {},
   "outputs": [],
   "source": [
    "# Modify the dataFrames to be totally similar \n",
    "\n",
    "# Store the Datasets in the csv format in a separate file ... \n"
   ]
  },
  {
   "cell_type": "code",
   "execution_count": null,
   "id": "4a0cdbad",
   "metadata": {},
   "outputs": [],
   "source": []
  }
 ],
 "metadata": {
  "kernelspec": {
   "display_name": "Python 3 (ipykernel)",
   "language": "python",
   "name": "python3"
  },
  "language_info": {
   "codemirror_mode": {
    "name": "ipython",
    "version": 3
   },
   "file_extension": ".py",
   "mimetype": "text/x-python",
   "name": "python",
   "nbconvert_exporter": "python",
   "pygments_lexer": "ipython3",
   "version": "3.8.10"
  }
 },
 "nbformat": 4,
 "nbformat_minor": 5
}
