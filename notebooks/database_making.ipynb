{
 "cells": [
  {
   "cell_type": "code",
   "execution_count": 1,
   "id": "912134f4",
   "metadata": {},
   "outputs": [],
   "source": [
    "import utils_adder\n",
    "\n",
    "import numpy as np \n",
    "import pandas as pd \n",
    "import glob\n",
    "\n",
    "\n",
    "import data_convertor, processing "
   ]
  },
  {
   "cell_type": "code",
   "execution_count": 2,
   "id": "935f3a32",
   "metadata": {},
   "outputs": [],
   "source": [
    "# Piezo dataset \n",
    "\n",
    "path = '../data/piezo/00_indoor_normal_cond.dat'\n",
    "\n",
    "def load_data(path):\n",
    "    data = pd.DataFrame(np.loadtxt(path,  unpack = True).T , columns=['Ts', 'N.A', 'Velocity', 'CH0', 'CH1'])\n",
    "    #data = [np.loadtxt(f,  unpack = True) for f in glob.glob(path + \"*.dat\")]\n",
    "    return data\n",
    "\n",
    "indoor_data = load_data(path= path)\n",
    "#l_df = {p.split('/')[-1].split('.')[0] : pd.read_csv(p, sep=\" \", header=None) for p in glob.glob(path + \"*.TXT\")} \n",
    "#l_df = [pd.read_csv(p, sep=\" \", header=None) for p in glob.glob(path + \"*.TXT\")]"
   ]
  },
  {
   "cell_type": "code",
   "execution_count": null,
   "id": "5e6e886b",
   "metadata": {},
   "outputs": [],
   "source": [
    "# txt to csv Conversion \n",
    "path = '../data/berkely/00_indoor_noraml_cond/'\n",
    "\n",
    "for i in range(0,21):\n",
    "    logger = i\n",
    "    l_df = data_convertor.read_txt(path=path, label=0, log_num = logger)\n",
    "    data_convertor.from_df_to_csv(l_df, path, logger)"
   ]
  },
  {
   "cell_type": "code",
   "execution_count": 3,
   "id": "c0fd40bd",
   "metadata": {},
   "outputs": [],
   "source": [
    "# Concatanating csv logs and validate them \n",
    "\n",
    "#path = '../data/berkely/00_outdoor_normal_cond_220622/'\n",
    "path = '../data/berkely/00_indoor_noraml_cond/'\n",
    "ldf = [pd.read_csv(p) for p in glob.glob(path + \"*.csv\")]\n",
    "df_fino = pd.concat(ldf).sort_values(by=['logger', 'ts'])\n",
    "\n",
    "#df_uno = pd.read_csv(path+\"LOG0001.csv\")\n",
    "\n"
   ]
  },
  {
   "cell_type": "code",
   "execution_count": 3,
   "id": "0f10b6b6",
   "metadata": {},
   "outputs": [
    {
     "data": {
      "text/html": [
       "<div>\n",
       "<style scoped>\n",
       "    .dataframe tbody tr th:only-of-type {\n",
       "        vertical-align: middle;\n",
       "    }\n",
       "\n",
       "    .dataframe tbody tr th {\n",
       "        vertical-align: top;\n",
       "    }\n",
       "\n",
       "    .dataframe thead th {\n",
       "        text-align: right;\n",
       "    }\n",
       "</style>\n",
       "<table border=\"1\" class=\"dataframe\">\n",
       "  <thead>\n",
       "    <tr style=\"text-align: right;\">\n",
       "      <th></th>\n",
       "      <th>x</th>\n",
       "      <th>y</th>\n",
       "      <th>cond</th>\n",
       "      <th>logger</th>\n",
       "      <th>ts</th>\n",
       "    </tr>\n",
       "  </thead>\n",
       "  <tbody>\n",
       "    <tr>\n",
       "      <th>0</th>\n",
       "      <td>541.0</td>\n",
       "      <td>841.0</td>\n",
       "      <td>0.0</td>\n",
       "      <td>0.0</td>\n",
       "      <td>0.00</td>\n",
       "    </tr>\n",
       "    <tr>\n",
       "      <th>1</th>\n",
       "      <td>541.0</td>\n",
       "      <td>841.0</td>\n",
       "      <td>0.0</td>\n",
       "      <td>0.0</td>\n",
       "      <td>0.01</td>\n",
       "    </tr>\n",
       "    <tr>\n",
       "      <th>2</th>\n",
       "      <td>541.0</td>\n",
       "      <td>841.0</td>\n",
       "      <td>0.0</td>\n",
       "      <td>0.0</td>\n",
       "      <td>0.02</td>\n",
       "    </tr>\n",
       "    <tr>\n",
       "      <th>3</th>\n",
       "      <td>541.0</td>\n",
       "      <td>841.0</td>\n",
       "      <td>0.0</td>\n",
       "      <td>0.0</td>\n",
       "      <td>0.03</td>\n",
       "    </tr>\n",
       "    <tr>\n",
       "      <th>4</th>\n",
       "      <td>541.0</td>\n",
       "      <td>841.0</td>\n",
       "      <td>0.0</td>\n",
       "      <td>0.0</td>\n",
       "      <td>0.04</td>\n",
       "    </tr>\n",
       "    <tr>\n",
       "      <th>...</th>\n",
       "      <td>...</td>\n",
       "      <td>...</td>\n",
       "      <td>...</td>\n",
       "      <td>...</td>\n",
       "      <td>...</td>\n",
       "    </tr>\n",
       "    <tr>\n",
       "      <th>31495</th>\n",
       "      <td>535.0</td>\n",
       "      <td>940.0</td>\n",
       "      <td>0.0</td>\n",
       "      <td>20.0</td>\n",
       "      <td>314.95</td>\n",
       "    </tr>\n",
       "    <tr>\n",
       "      <th>31496</th>\n",
       "      <td>534.0</td>\n",
       "      <td>940.0</td>\n",
       "      <td>0.0</td>\n",
       "      <td>20.0</td>\n",
       "      <td>314.96</td>\n",
       "    </tr>\n",
       "    <tr>\n",
       "      <th>31497</th>\n",
       "      <td>539.0</td>\n",
       "      <td>943.0</td>\n",
       "      <td>0.0</td>\n",
       "      <td>20.0</td>\n",
       "      <td>314.97</td>\n",
       "    </tr>\n",
       "    <tr>\n",
       "      <th>31498</th>\n",
       "      <td>552.0</td>\n",
       "      <td>928.0</td>\n",
       "      <td>0.0</td>\n",
       "      <td>20.0</td>\n",
       "      <td>314.98</td>\n",
       "    </tr>\n",
       "    <tr>\n",
       "      <th>31499</th>\n",
       "      <td>554.0</td>\n",
       "      <td>925.0</td>\n",
       "      <td>0.0</td>\n",
       "      <td>20.0</td>\n",
       "      <td>314.99</td>\n",
       "    </tr>\n",
       "  </tbody>\n",
       "</table>\n",
       "<p>661500 rows × 5 columns</p>\n",
       "</div>"
      ],
      "text/plain": [
       "           x      y  cond  logger      ts\n",
       "0      541.0  841.0   0.0     0.0    0.00\n",
       "1      541.0  841.0   0.0     0.0    0.01\n",
       "2      541.0  841.0   0.0     0.0    0.02\n",
       "3      541.0  841.0   0.0     0.0    0.03\n",
       "4      541.0  841.0   0.0     0.0    0.04\n",
       "...      ...    ...   ...     ...     ...\n",
       "31495  535.0  940.0   0.0    20.0  314.95\n",
       "31496  534.0  940.0   0.0    20.0  314.96\n",
       "31497  539.0  943.0   0.0    20.0  314.97\n",
       "31498  552.0  928.0   0.0    20.0  314.98\n",
       "31499  554.0  925.0   0.0    20.0  314.99\n",
       "\n",
       "[661500 rows x 5 columns]"
      ]
     },
     "execution_count": 3,
     "metadata": {},
     "output_type": "execute_result"
    }
   ],
   "source": [
    "# Here Mean Center + Convert to [g] \n",
    "df_fino"
   ]
  },
  {
   "cell_type": "code",
   "execution_count": null,
   "id": "97e7087a",
   "metadata": {},
   "outputs": [],
   "source": [
    "%matplotlib notebook\n",
    "import matplotlib.pyplot as plt \n",
    "conv = 2/(2**15) \n",
    "plt.figure()\n",
    "plt.plot(df_fino.x.values*conv  - np.mean(df_fino.x.values*conv))\n",
    "plt.plot(indoor_data.CH1)\n",
    "plt.show()"
   ]
  },
  {
   "cell_type": "code",
   "execution_count": 8,
   "id": "10d017c1",
   "metadata": {},
   "outputs": [
    {
     "data": {
      "text/plain": [
       "661500"
      ]
     },
     "execution_count": 8,
     "metadata": {},
     "output_type": "execute_result"
    }
   ],
   "source": [
    "(df_fino.x.values.shape[0])"
   ]
  },
  {
   "cell_type": "code",
   "execution_count": 20,
   "id": "48d6d213",
   "metadata": {},
   "outputs": [],
   "source": [
    "conv = 2/(2**15) \n",
    "fft_berk = processing.fft_(df_fino.y.values*conv, 104)  \n",
    "fft_piezo = processing.fft_(indoor_data.CH0.values, 100)"
   ]
  },
  {
   "cell_type": "code",
   "execution_count": 22,
   "id": "0d21f3ef",
   "metadata": {},
   "outputs": [
    {
     "data": {
      "text/plain": [
       "(0.0, 8e-05)"
      ]
     },
     "execution_count": 22,
     "metadata": {},
     "output_type": "execute_result"
    },
    {
     "data": {
      "image/png": "[encoded data removed]",
      "text/plain": [
       "<Figure size 432x288 with 1 Axes>"
      ]
     },
     "metadata": {
      "needs_background": "light"
     },
     "output_type": "display_data"
    },
    {
     "data": {
      "image/png": "[encoded data removed]",
      "text/plain": [
       "<Figure size 432x288 with 1 Axes>"
      ]
     },
     "metadata": {
      "needs_background": "light"
     },
     "output_type": "display_data"
    }
   ],
   "source": [
    "import matplotlib.pyplot as plt \n",
    "plt.figure()\n",
    "\n",
    "plt.plot(fft_berk['frequency'], fft_berk['fft_'])\n",
    "#plt.xlim([0,15])\n",
    "\n",
    "plt.figure()\n",
    "plt.plot(fft_piezo['frequency'], fft_piezo['fft_'])\n",
    "\n",
    "#plt.xlim([0,15])\n",
    "plt.ylim([0,float(8e-5)])"
   ]
  },
  {
   "cell_type": "markdown",
   "id": "4ac0b876",
   "metadata": {},
   "source": [
    "#### for 00_indoor_noraml_cond: <br />\n",
    "    - CH0 == y-axis f_peak = 10.23 \n",
    "    - CH1 == x-axis f_peak = 2.85, 8.xx\n",
    " "
   ]
  },
  {
   "cell_type": "code",
   "execution_count": null,
   "id": "5a0c2212",
   "metadata": {},
   "outputs": [],
   "source": [
    "# Modify the dataFrames to be totally similar \n",
    "\n",
    "# Store the Datasets in the csv format in a separate format ... \n"
   ]
  },
  {
   "cell_type": "code",
   "execution_count": null,
   "id": "4a0cdbad",
   "metadata": {},
   "outputs": [],
   "source": []
  }
 ],
 "metadata": {
  "kernelspec": {
   "display_name": "Python 3 (ipykernel)",
   "language": "python",
   "name": "python3"
  },
  "language_info": {
   "codemirror_mode": {
    "name": "ipython",
    "version": 3
   },
   "file_extension": ".py",
   "mimetype": "text/x-python",
   "name": "python",
   "nbconvert_exporter": "python",
   "pygments_lexer": "ipython3",
   "version": "3.8.10"
  }
 },
 "nbformat": 4,
 "nbformat_minor": 5
}
